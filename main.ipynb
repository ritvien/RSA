{
 "cells": [
  {
   "cell_type": "code",
   "execution_count": 5,
   "id": "7cc9adc6",
   "metadata": {
    "ExecuteTime": {
     "end_time": "2024-06-04T00:42:10.997417Z",
     "start_time": "2024-06-04T00:42:10.980380Z"
    }
   },
   "outputs": [],
   "source": [
    "import display"
   ]
  },
  {
   "cell_type": "code",
   "execution_count": 6,
   "id": "0db7fa6a",
   "metadata": {
    "ExecuteTime": {
     "end_time": "2024-06-04T00:42:11.472647Z",
     "start_time": "2024-06-04T00:42:11.451612Z"
    }
   },
   "outputs": [],
   "source": [
    "display.root.mainloop()"
   ]
  }
 ],
 "metadata": {
  "kernelspec": {
   "display_name": "Python 3 (ipykernel)",
   "language": "python",
   "name": "python3"
  },
  "language_info": {
   "codemirror_mode": {
    "name": "ipython",
    "version": 3
   },
   "file_extension": ".py",
   "mimetype": "text/x-python",
   "name": "python",
   "nbconvert_exporter": "python",
   "pygments_lexer": "ipython3",
   "version": "3.9.13"
  },
  "toc": {
   "base_numbering": 1,
   "nav_menu": {},
   "number_sections": true,
   "sideBar": true,
   "skip_h1_title": false,
   "title_cell": "Table of Contents",
   "title_sidebar": "Contents",
   "toc_cell": false,
   "toc_position": {},
   "toc_section_display": true,
   "toc_window_display": false
  }
 },
 "nbformat": 4,
 "nbformat_minor": 5
}
