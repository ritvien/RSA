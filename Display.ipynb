{
 "cells": [
  {
   "cell_type": "code",
   "execution_count": 12,
   "id": "8e2e058c",
   "metadata": {
    "ExecuteTime": {
     "end_time": "2024-06-02T17:19:54.595677Z",
     "start_time": "2024-06-02T17:19:54.582145Z"
    }
   },
   "outputs": [],
   "source": [
    "import tkinter as tk\n",
    "from tkinter import * \n",
    "from tkinter import messagebox\n",
    "import src"
   ]
  },
  {
   "cell_type": "code",
   "execution_count": 13,
   "id": "2b2b123f",
   "metadata": {
    "ExecuteTime": {
     "end_time": "2024-06-02T17:19:54.752343Z",
     "start_time": "2024-06-02T17:19:54.738213Z"
    }
   },
   "outputs": [],
   "source": [
    "def show_custom_message(message):\n",
    "    dialog = tk.Toplevel(root)\n",
    "    dialog.title(\"Thông báo\")\n",
    "    \n",
    "    label = tk.Label(dialog, text=\"Khóa bí mật (d,n) là:\", font=('Arial', 10))\n",
    "    label.pack(pady=10)\n",
    "    \n",
    "    text_box = tk.Text(dialog, wrap='word', height=5, width=50)\n",
    "    text_box.pack(padx=10, pady=10)\n",
    "    text_box.insert('1.0', message)\n",
    "    text_box.config(state='disabled')  \n",
    "    \n",
    "    close_button = tk.Button(dialog, text=\"Đóng\", command=dialog.destroy)\n",
    "    close_button.pack(pady=10)"
   ]
  },
  {
   "cell_type": "code",
   "execution_count": 14,
   "id": "f8d87f1a",
   "metadata": {
    "ExecuteTime": {
     "end_time": "2024-06-02T17:19:54.906400Z",
     "start_time": "2024-06-02T17:19:54.898705Z"
    }
   },
   "outputs": [],
   "source": [
    "def display_get_input():\n",
    "    try:\n",
    "        num = int(entry_N.get())\n",
    "        large_prime_number = src.generate_large_prime(num)\n",
    "        large_prime_number_label = tk.Label(root,\n",
    "                                            text=f\"Số nguyên tố lớn hơn {num} là: {large_prime_number}\",\n",
    "                                            fg='green',\n",
    "                                            font=('Arial', 10),\n",
    "                                            wraplength=200)\n",
    "        large_prime_number_label.place(x=25,y=200,anchor='nw')\n",
    "        entry_N.config(state='disabled')\n",
    "    except ValueError:\n",
    "        messagebox.showerror(\"Lỗi\", \"Vui lòng nhập một số nguyên hợp lệ\")"
   ]
  },
  {
   "cell_type": "code",
   "execution_count": 15,
   "id": "2df17da7",
   "metadata": {
    "ExecuteTime": {
     "end_time": "2024-06-02T17:19:55.061395Z",
     "start_time": "2024-06-02T17:19:55.049282Z"
    }
   },
   "outputs": [],
   "source": [
    "def display_gen_key():\n",
    "    global public_key, private_key,public_key_label\n",
    "    try:\n",
    "        bit_size = int(entry_bitlength_key.get())\n",
    "        if bit_size < 8 or bit_size > 2048:\n",
    "            raise ValueError()\n",
    "        public_key,private_key = src.generate_rsa_keys(bit_size)\n",
    "        public_key_label = tk.Label(root,\n",
    "                                    text=f\"Khóa công khai (e,n) là: {public_key}\",\n",
    "                                    fg='green',\n",
    "                                    font=('Arial', 8),\n",
    "                                    wraplength=350)\n",
    "        public_key_label.place(x=400,y=225,anchor='nw')\n",
    "        show_custom_message(f\"{private_key}, hãy copy hoặc ghi nhớ lại và không chia sẻ cho bất kỳ ai!!!!\")\n",
    "\n",
    "        entry_bitlength_key.config(state='disabled')\n",
    "        button_start_encode.config(state='disabled')\n",
    "        button_encrypt.place(x=600,y=195, anchor='nw')\n",
    "    except ValueError:\n",
    "        messagebox.showerror(\"Lỗi\", \"Vui lòng nhập một số nguyên hợp lệ trong đoạn từ 8 đến 2048.\")"
   ]
  },
  {
   "cell_type": "code",
   "execution_count": 16,
   "id": "8a5ba2c5",
   "metadata": {
    "ExecuteTime": {
     "end_time": "2024-06-02T17:19:55.357668Z",
     "start_time": "2024-06-02T17:19:55.351642Z"
    }
   },
   "outputs": [],
   "source": [
    "def display_get_num_to_encode():\n",
    "    global num_to_encode\n",
    "    try:\n",
    "        num_to_encode = int(entry_num_to_encode.get())\n",
    "        check_num_label.place(x=650,y=130,anchor='nw')\n",
    "        entry_num_to_encode.config(state='disabled')\n",
    "    except ValueError:\n",
    "        messagebox.showerror(\"Lỗi\", \"Vui lòng nhập một số nguyên hợp lệ\")"
   ]
  },
  {
   "cell_type": "code",
   "execution_count": 17,
   "id": "6c13d28d",
   "metadata": {
    "ExecuteTime": {
     "end_time": "2024-06-02T17:19:55.700043Z",
     "start_time": "2024-06-02T17:19:55.680355Z"
    }
   },
   "outputs": [],
   "source": [
    "def display_start_encrypt():\n",
    "    global num_to_encode,number_encoded,public_key\n",
    "    try:\n",
    "        if num_to_encode == None:\n",
    "            raise ValueError()\n",
    "        public_key_label.place(x=1000,y=1000,anchor='nw')\n",
    "        number_encoded = src.encrypt(num_to_encode,public_key)\n",
    "        number_encoded_label = tk.Label(root,\n",
    "                                text=f\"Số {num_to_encode} sau khi mã hóa là: {number_encoded}\",\n",
    "                                fg='green',\n",
    "                                font=('Arial', 10),\n",
    "                                wraplength=350)\n",
    "        number_encoded_label.place(x=400,y=225,anchor='nw')\n",
    "        start_decrypt_btn.place(x=400,y=500,anchor='nw')\n",
    "    except ValueError:\n",
    "        messagebox.showerror(\"Lỗi\", \"Lỗi nhập số cần mã hóa!\")"
   ]
  },
  {
   "cell_type": "code",
   "execution_count": 21,
   "id": "79046d62",
   "metadata": {
    "ExecuteTime": {
     "end_time": "2024-06-02T17:21:51.926000Z",
     "start_time": "2024-06-02T17:21:51.915593Z"
    }
   },
   "outputs": [],
   "source": [
    "def display_button_check_interger(type_key,position_y,entry,num):\n",
    "    global d_number_private,n_number_private\n",
    "    try:\n",
    "        check_num_label = tk.Label(root,\n",
    "                                   text=f\"Số {type_key} thỏa mãn ✅\",\n",
    "                                   fg='green',\n",
    "                                   font=('Arial', 8))\n",
    "        check_num_label.place(x=400,y=position_y, anchor='nw')\n",
    "        entry.config(state='disable')\n",
    "        if type_key == 'd':\n",
    "            d_number_private = num\n",
    "        else:\n",
    "            n_number_private = num\n",
    "    except ValueError:\n",
    "        messagebox.showerror(\"Lỗi\", f\"Lỗi nhập số  {type_key}\")\n",
    "        "
   ]
  },
  {
   "cell_type": "code",
   "execution_count": 22,
   "id": "cb42d827",
   "metadata": {
    "ExecuteTime": {
     "end_time": "2024-06-02T17:21:52.129984Z",
     "start_time": "2024-06-02T17:21:52.121434Z"
    }
   },
   "outputs": [],
   "source": [
    "def display_entry_private_key():\n",
    "    global number_encoded,private_key\n",
    "    start_decrypt_btn.config(state='disabled')\n",
    "    entry_private_key_label.place(x=500,y=500, anchor='nw')\n",
    "    \n",
    "    d_private_key_entry.place(x=400, y=530, anchor='nw')\n",
    "    n_private_key_entry.place(x=400, y=555, anchor='nw')\n",
    "    \n",
    "\n",
    "\n",
    "\n",
    "    d_private_key_button = tk.Button(root,\n",
    "                                     text=\"Nhập d\",\n",
    "                                     command=lambda: display_button_check_interger('d',530,d_private_key_entry,\n",
    "                                                                                   int(d_private_key_entry.get())),\n",
    "                                     activebackground='red')\n",
    "    n_private_key_button = tk.Button(root,\n",
    "                                 text=\"Nhập b\",\n",
    "                                 command=lambda: display_button_check_interger('b',555,n_private_key_entry,\n",
    "                                                                               int(n_private_key_entry.get())),\n",
    "                                 activebackground='red')\n",
    "\n",
    "    d_private_key_button.place(x=600,y=530, anchor='nw')\n",
    "    n_private_key_button.place(x=600,y=555, anchor='nw')\n",
    "    \n",
    "    number_decrypted = src.decrypt(number_encoded,private_key)\n",
    "    number_decrypted_label = tk.Label(root,\n",
    "                            text=f\"Số sau khi giải mã là: {number_decrypted}\",\n",
    "                            fg='red',\n",
    "                            font=('Arial', 8),\n",
    "                            wraplength=350)\n",
    "    number_decrypted_label.place(x=100,y=560,anchor='nw')\n"
   ]
  },
  {
   "cell_type": "code",
   "execution_count": 23,
   "id": "fd713729",
   "metadata": {
    "ExecuteTime": {
     "end_time": "2024-06-02T17:22:15.063848Z",
     "start_time": "2024-06-02T17:21:52.290583Z"
    }
   },
   "outputs": [],
   "source": [
    "root = Tk()\n",
    "root.title(\"Chương trình sinh số nguyên tố lớn vã mã hóa RSA\")\n",
    "root.geometry('800x600')\n",
    "root.resizable(0,0)\n",
    "\n",
    "root.configure(bg='light blue')\n",
    "\n",
    "hust_label = tk.Label(root, text=\"ĐẠI HỌC BÁCH KHOA HÀ NỘI\", fg='red',font=('Arial', 10))\n",
    "hust_label.place(x=400,y=10, anchor='center')\n",
    "\n",
    "\n",
    "\n",
    "#_______________________________________________SINH SỐ NGUYÊN TỐ_____________________________________________#\n",
    "\n",
    "p_number_label = tk.Label(root, text=\"SINH SỐ NGUYÊN TỐ\", fg='black',bg='#05ff16',font=('Arial', 10))\n",
    "p_number_label.place(x=150,y=75, anchor='center')\n",
    "\n",
    "label_input_N = tk.Label(root, text=\"Hãy nhập một số nguyên N:\",bg='sky blue')\n",
    "label_input_N.place(x=25,y=100, anchor='nw')\n",
    "\n",
    "entry_N = tk.Entry(root,width=30)\n",
    "entry_N.place(x=25, y=130, anchor='nw')\n",
    "\n",
    "button_get_N = tk.Button(root, text=\"Sinh số nguyên tố lớn hơn N\", command=display_get_input,activebackground='red')\n",
    "button_get_N.place(x=25,y=160, anchor='nw')\n",
    "\n",
    "\n",
    "#__________________________________________________MÃ HÓA RSA__________________________________________________#\n",
    "\n",
    "# Nhập số cần mã hóa\n",
    "\n",
    "num_to_encode = None\n",
    "number_encoded = None\n",
    "\n",
    "rsa_label = tk.Label(root, text=\"MÃ HÓA RSA\", fg='black',bg='#05ff16',font=('Arial', 10))\n",
    "rsa_label.place(x=600,y=75, anchor='center')\n",
    "\n",
    "label_input_num_to_encode = tk.Label(root, text=\"Hãy số cần mã hóa:\",bg='sky blue')\n",
    "label_input_num_to_encode.place(x=400,y=100, anchor='nw')\n",
    "\n",
    "entry_num_to_encode = tk.Entry(root,width=30)\n",
    "entry_num_to_encode.place(x=530, y=100, anchor='nw')\n",
    "\n",
    "button_start_encode = tk.Button(root, text=\"Bắt đầu mã hóa\",command=display_get_num_to_encode,activebackground='red')\n",
    "button_start_encode.place(x=530,y=130, anchor='nw')\n",
    "\n",
    "# Sinh khóa\n",
    "\n",
    "public_key = None\n",
    "private_key = None\n",
    "public_key_label = None\n",
    "\n",
    "label_input_bitlength_key = tk.Label(root, text=\"Hãy độ dài khóa (bit):\",bg='sky blue')\n",
    "label_input_bitlength_key.place(x=400,y=160, anchor='nw')\n",
    "\n",
    "entry_bitlength_key = tk.Entry(root,width=10)\n",
    "entry_bitlength_key.place(x=530, y=160, anchor='nw')\n",
    "\n",
    "label_rcm_bitlength = tk.Label(root, text=\"Độ dài bit của khóa nên trong khoảng:[8,2048]\",bg='#ff8a05',wraplength=150)\n",
    "label_rcm_bitlength.place(x=600,y=155, anchor='nw')\n",
    "\n",
    "button_start_encode = tk.Button(root, text=\"Sinh khóa\",command=display_gen_key,activebackground='red')\n",
    "button_start_encode.place(x=530,y=195, anchor='nw')\n",
    "\n",
    "\n",
    "# Mã hóa\n",
    "\n",
    "button_encrypt = tk.Button(root,\n",
    "                           text=\"Mã hóa bằng cặp khóa dưới đây\",\n",
    "                           bg='#22ff05',\n",
    "                           command=display_start_encrypt,\n",
    "                           activebackground='yellow')\n",
    "check_num_label = tk.Label(root,\n",
    "                           text=f\"Số đã thỏa mãn ✅\",\n",
    "                           fg='green',\n",
    "                           font=('Arial', 10))\n",
    "\n",
    "# Giải mã\n",
    "d_number_private = None\n",
    "n_number_private = None\n",
    "\n",
    "start_decrypt_btn = tk.Button(root,text=\"Bắt đầu giải mã\",fg='black',command=display_entry_private_key)\n",
    "entry_private_key_label = tk.Label(root, text=\"Nhập khóa bí mật (d và n):\", fg='black',font=('Arial', 10))\n",
    "d_private_key_entry = tk.Entry(root,width=30)\n",
    "n_private_key_entry = tk.Entry(root,width=30)\n",
    "\n",
    "\n",
    ",\n",
    "# label_input_num_to_encode = tk.Label(root, text=\"Hãy số cần mã hóa:\",bg='sky blue')\n",
    "# label_input_num_to_encode.place(x=500,y=100, anchor='nw')\n",
    "\n",
    "\n",
    "\n",
    "\n",
    "root.mainloop()"
   ]
  },
  {
   "cell_type": "markdown",
   "id": "0bd85d77",
   "metadata": {},
   "source": [
    "# Thêm button giải mã nếu nhập đủ d và n, in ra thời gian giải mã, thời gian mã hóa, kiểm tra tính đúng c"
   ]
  },
  {
   "cell_type": "code",
   "execution_count": null,
   "id": "88089ab9",
   "metadata": {},
   "outputs": [],
   "source": []
  }
 ],
 "metadata": {
  "kernelspec": {
   "display_name": "Python 3 (ipykernel)",
   "language": "python",
   "name": "python3"
  },
  "language_info": {
   "codemirror_mode": {
    "name": "ipython",
    "version": 3
   },
   "file_extension": ".py",
   "mimetype": "text/x-python",
   "name": "python",
   "nbconvert_exporter": "python",
   "pygments_lexer": "ipython3",
   "version": "3.9.13"
  },
  "toc": {
   "base_numbering": 1,
   "nav_menu": {},
   "number_sections": true,
   "sideBar": true,
   "skip_h1_title": false,
   "title_cell": "Table of Contents",
   "title_sidebar": "Contents",
   "toc_cell": false,
   "toc_position": {},
   "toc_section_display": true,
   "toc_window_display": false
  }
 },
 "nbformat": 4,
 "nbformat_minor": 5
}
