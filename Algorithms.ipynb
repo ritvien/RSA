{
 "cells": [
  {
   "cell_type": "code",
   "execution_count": 6,
   "id": "567fa90d",
   "metadata": {
    "ExecuteTime": {
     "end_time": "2024-05-31T14:08:59.379271Z",
     "start_time": "2024-05-31T14:08:59.369753Z"
    }
   },
   "outputs": [
    {
     "data": {
      "text/plain": [
       "375"
      ]
     },
     "execution_count": 6,
     "metadata": {},
     "output_type": "execute_result"
    }
   ],
   "source": [
    "mod_exp(175,209,1000)"
   ]
  },
  {
   "cell_type": "code",
   "execution_count": 8,
   "id": "a77b4c06",
   "metadata": {
    "ExecuteTime": {
     "end_time": "2024-05-31T14:15:22.779504Z",
     "start_time": "2024-05-31T14:15:22.758425Z"
    }
   },
   "outputs": [
    {
     "data": {
      "text/plain": [
       "6236661535034473157091043657845446187085670443694354800006227244473547488990935807702538328721569229072408520639798779433729206701339840313209803664429194754788478993504487325134534839480692915629246967913673373916389770236920694053412171003047157074689809548378616039857981333604796239617190902476959432333131920974293891273571746648010630269294220307245792779078253560470603192789457763194083114434459465698939931435206091513666348813416107077500782907009124755859375"
      ]
     },
     "execution_count": 8,
     "metadata": {},
     "output_type": "execute_result"
    }
   ],
   "source": [
    "175**209"
   ]
  },
  {
   "cell_type": "code",
   "execution_count": 3,
   "id": "58cf5941",
   "metadata": {
    "ExecuteTime": {
     "end_time": "2024-05-31T14:06:48.622642Z",
     "start_time": "2024-05-31T14:06:48.611118Z"
    }
   },
   "outputs": [
    {
     "data": {
      "text/plain": [
       "515377520732011331036461129765621272702107522001"
      ]
     },
     "execution_count": 3,
     "metadata": {},
     "output_type": "execute_result"
    }
   ],
   "source": [
    "3**100"
   ]
  },
  {
   "cell_type": "code",
   "execution_count": 10,
   "id": "94839ff2",
   "metadata": {
    "ExecuteTime": {
     "end_time": "2024-05-31T15:54:46.621903Z",
     "start_time": "2024-05-31T15:54:46.561867Z"
    }
   },
   "outputs": [],
   "source": [
    "import random\n",
    "\n",
    "\n",
    "def modular_exponentiation(base, exp, mod):\n",
    "    '''\n",
    "    Tính modulo của lũy thừa\n",
    "    \n",
    "    Parameters:\n",
    "        base (int): cơ số\n",
    "        exp (int): lũy thừa/số mũ\n",
    "        mod (int): modulo\n",
    "    \n",
    "    Return:\n",
    "            int: kết quả của phép tính modulo lũy thừa\n",
    "    \n",
    "    '''\n",
    "    result = 1\n",
    "    while exp > 0:\n",
    "        if exp % 2 == 1:\n",
    "            result = (result * base) % mod\n",
    "        base = (base * base) % mod\n",
    "        exp //= 2\n",
    "    return result\n",
    "\n",
    "def miller_rabin_test(n, k=5): \n",
    "    '''\n",
    "    Hàm kiểm tra số nguyên tố bằng thuật toán Miller-Rabin\n",
    "    \n",
    "    Parameters:\n",
    "        n (int): Số cần kiểm tra tính nguyên tố\n",
    "        k (int): Số lần lặp, thử lại (càng to càng chính xác)\n",
    "    \n",
    "    Return:\n",
    "        bool: Kết quả có phải số nguyên tố không\n",
    "    \n",
    "    '''\n",
    "    \n",
    "    if n <= 1:\n",
    "        return False\n",
    "    if n <= 3:\n",
    "        return True\n",
    "    if n % 2 == 0:\n",
    "        return False\n",
    "\n",
    "    r, d = 0, n - 1\n",
    "    while d % 2 == 0:\n",
    "        r += 1\n",
    "        d //= 2\n",
    "\n",
    "    for _ in range(k):\n",
    "        a = random.randint(2, n - 2)\n",
    "        x = modular_exponentiation(a, d, n)\n",
    "        if x == 1 or x == n - 1:\n",
    "            continue\n",
    "        for _ in range(r - 1):\n",
    "            x = modular_exponentiation(x, 2, n)\n",
    "            if x == n - 1:\n",
    "                break\n",
    "        else:\n",
    "            return False\n",
    "    return True\n",
    "\n",
    "\n",
    "def generate_large_prime(N):\n",
    "    '''\n",
    "    Hàm sinh số nguyên tố lớn hơn số N cho trước\n",
    "    \n",
    "    Parameters:\n",
    "        N (int): số cho trước\n",
    "    \n",
    "    Return:\n",
    "        int: Số nguyên tố lớn hơn N\n",
    "    \n",
    "    '''\n",
    "    while True:\n",
    "        result = random.randint(N+1, 2*N)\n",
    "        if miller_rabin_test(result):\n",
    "            return result\n",
    "\n",
    "\n",
    "        \n",
    "\n",
    "\n",
    "\n",
    "def gcd(a, b):\n",
    "    while b != 0:\n",
    "        a, b = b, a % b\n",
    "    return a\n",
    "\n",
    "def mod_inv(a, m):\n",
    "    '''\n",
    "    Tính nghịch đảo modulo của a modulo m bằng thuật toán Euclide mở rộng\n",
    "    \n",
    "    Parameters:\n",
    "        a (int): Số nguyên cần tìm nghịch đảo modulo\n",
    "        m (int): Modulo\n",
    "    \n",
    "    Return:\n",
    "        int: Nghịch đảo modulo của a modulo m\n",
    "    \n",
    "    '''\n",
    "    m0, x0, x1 = m, 0, 1\n",
    "    while a > 1:\n",
    "        q = a // m\n",
    "        m, a = a % m, m\n",
    "        x0, x1 = x1 - q * x0, x0\n",
    "    if x1 < 0:\n",
    "        x1 += m0\n",
    "    return x1\n",
    "\n",
    "def generate_rsa_keys(key_size=1024):\n",
    "    '''\n",
    "    Tạo cặp khóa RSA\n",
    "    \n",
    "    Parameters:\n",
    "        key_size (int): Độ dài của khóa RSA\n",
    "        \n",
    "    Return:\n",
    "        tuple,tuple: Khóa công khai, khóa riêng\n",
    "    \n",
    "    '''\n",
    "    p = generate_large_prime(2**(key_size//2))\n",
    "    q = generate_large_prime(2**(key_size//2))\n",
    "    n = p * q\n",
    "    phi = (p - 1) * (q - 1)\n",
    "    \n",
    "    e = random.randint(2, phi - 1) \n",
    "    while gcd(e, phi) != 1:\n",
    "        e = random.randint(2, phi - 1)\n",
    "    \n",
    "    d = mod_inv(e, phi)\n",
    "    return (e, n), (d, n)\n",
    "\n",
    "def encrypt(original_num, public_key):\n",
    "    \"\"\"\n",
    "    Mã hóa một số nguyên bằng khóa công khai RSA\n",
    "\n",
    "    Parameters:\n",
    "        original_num (int): Số nguyên cần mã hóa\n",
    "        public_key (tuple): Cặp khóa công khai RSA (e, n)\n",
    "\n",
    "    Returns:\n",
    "        int: Số nguyên đã được mã hóa\n",
    "        \n",
    "    \"\"\"\n",
    "    e, n = public_key\n",
    "    return modular_exponentiation(original_num, e, n)\n",
    "\n",
    "def decrypt(encoded_num, private_key):\n",
    "    \"\"\"\n",
    "    Giải mã một số nguyên đã mã hóa bằng khóa riêng RSA\n",
    "\n",
    "    Parameters:\n",
    "        encoded_num (int): Số nguyên đã được mã hóa\n",
    "        private_key (tuple): Cặp khóa riêng RSA (d, n)\n",
    "\n",
    "    Returns:\n",
    "        int: Số nguyên đã được giải mã\n",
    "\n",
    "    \"\"\"\n",
    "    \n",
    "    d, n = private_key\n",
    "    return modular_exponentiation(encoded_num, d, n)\n"
   ]
  },
  {
   "cell_type": "code",
   "execution_count": null,
   "id": "c805df3e",
   "metadata": {},
   "outputs": [],
   "source": []
  }
 ],
 "metadata": {
  "kernelspec": {
   "display_name": "Python 3 (ipykernel)",
   "language": "python",
   "name": "python3"
  },
  "language_info": {
   "codemirror_mode": {
    "name": "ipython",
    "version": 3
   },
   "file_extension": ".py",
   "mimetype": "text/x-python",
   "name": "python",
   "nbconvert_exporter": "python",
   "pygments_lexer": "ipython3",
   "version": "3.9.13"
  },
  "toc": {
   "base_numbering": 1,
   "nav_menu": {},
   "number_sections": true,
   "sideBar": true,
   "skip_h1_title": false,
   "title_cell": "Table of Contents",
   "title_sidebar": "Contents",
   "toc_cell": false,
   "toc_position": {},
   "toc_section_display": true,
   "toc_window_display": false
  }
 },
 "nbformat": 4,
 "nbformat_minor": 5
}
